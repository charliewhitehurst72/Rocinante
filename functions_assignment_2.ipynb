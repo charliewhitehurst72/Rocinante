{
 "cells": [
  {
   "cell_type": "code",
   "execution_count": 4,
   "id": "1a4352dc",
   "metadata": {},
   "outputs": [
    {
     "name": "stdout",
     "output_type": "stream",
     "text": [
      "What is your name? Charlie\n",
      "\n",
      "What is your yearly salary in USD? (Please enter numbers only.) 40000\n",
      "\n",
      "Hi, Charlie! Your gross and net yearly salary, as well as your federal and state tax amounts and 401k \n",
      "contributions are as follows:\n",
      "\n",
      "Gross Salary: $40,000.00\n",
      "\n",
      "State Tax: $2,800.00\n",
      "\n",
      "Federal Tax: $8,000.00\n",
      "\n",
      "401k Contributions: $4,000.00\n",
      "\n",
      "Net Pay = $25,200.00\n"
     ]
    }
   ],
   "source": [
    "# You are to create a payroll program to calculate and print the following:\n",
    "\n",
    "# Gross Pay\n",
    "# Federal Income Tax (20%)\n",
    "# State Income Tax (7%)\n",
    "# 401k Contribution (10%)\n",
    "# Net Pay (Gross pay minus Federal Income Tax, State Income Tax, 401k)\n",
    "# The user will need to input the name and gross pay and your program will calculate the amounts using functions.\n",
    "\n",
    "name = input('What is your name? ')\n",
    "gross_salary = float(input('\\nWhat is your yearly salary in USD? (Please enter numbers only.) '))\n",
    "\n",
    "def state_tax(salary):\n",
    "    return .07 * salary\n",
    "\n",
    "def federal_tax(salary):\n",
    "    return .20 * salary\n",
    "\n",
    "def retirement_contribution(salary):\n",
    "    return .10 * salary\n",
    "\n",
    "net_salary = gross_salary - state_tax(gross_salary) - federal_tax(gross_salary) - retirement_contribution(gross_salary)\n",
    "\n",
    "print('\\nHi, ' + name \n",
    "      + '! Your gross and net yearly salary, as well as your federal and state tax amounts and 401k \\ncontributions are as follows:' + \n",
    "      '\\n\\nGross Salary: ' + \"${:,.2f}\".format(gross_salary) + \n",
    "      '\\n\\nState Tax: ' + \"${:,.2f}\".format(state_tax(gross_salary)) + '\\n\\nFederal Tax: '\n",
    "      + \"${:,.2f}\".format(federal_tax(gross_salary)) \n",
    "      + '\\n\\n401k Contributions: ' + \"${:,.2f}\".format(retirement_contribution(gross_salary)) \n",
    "      + '\\n\\nNet Pay = ' + \"${:,.2f}\".format(net_salary))"
   ]
  },
  {
   "cell_type": "code",
   "execution_count": null,
   "id": "b4944595",
   "metadata": {},
   "outputs": [],
   "source": []
  },
  {
   "cell_type": "code",
   "execution_count": null,
   "id": "02ec692d",
   "metadata": {},
   "outputs": [],
   "source": []
  }
 ],
 "metadata": {
  "kernelspec": {
   "display_name": "Python 3",
   "language": "python",
   "name": "python3"
  },
  "language_info": {
   "codemirror_mode": {
    "name": "ipython",
    "version": 3
   },
   "file_extension": ".py",
   "mimetype": "text/x-python",
   "name": "python",
   "nbconvert_exporter": "python",
   "pygments_lexer": "ipython3",
   "version": "3.8.8"
  }
 },
 "nbformat": 4,
 "nbformat_minor": 5
}
