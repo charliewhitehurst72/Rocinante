{
 "cells": [
  {
   "cell_type": "code",
   "execution_count": 1,
   "id": "aa7104c9",
   "metadata": {},
   "outputs": [
    {
     "name": "stdout",
     "output_type": "stream",
     "text": [
      "Input a dog's age in human years: 15\n",
      "The dog's age in dog years is 73.\n"
     ]
    }
   ],
   "source": [
    "# Write a Python program to calculate a dog's age in dog's years. Go to the editor\n",
    "# Note: For the first two years, a dog year is equal to 10.5 human years. After that, each dog year equals 4 human \n",
    "# years.\n",
    "#\n",
    "# Expected Output:\n",
    "#\n",
    "# Input a dog's age in human years: 15                                   \n",
    "#\n",
    "# The dog's age in dog's years is 73.\n",
    "\n",
    "age = int(input(\"Input a dog's age in human years: \"))\n",
    "if age <0:\n",
    "    print(\"You've entered an invalid age.\")\n",
    "elif age <= 2:\n",
    "    print(\"The dog's age in dog years is \" + str(10.5 * age) + '.')\n",
    "else:\n",
    "    print(\"The dog's age in dog years is \" + str(21 + (age - 2)*4) +'.')"
   ]
  },
  {
   "cell_type": "code",
   "execution_count": null,
   "id": "8d513765",
   "metadata": {},
   "outputs": [],
   "source": []
  }
 ],
 "metadata": {
  "kernelspec": {
   "display_name": "Python 3",
   "language": "python",
   "name": "python3"
  },
  "language_info": {
   "codemirror_mode": {
    "name": "ipython",
    "version": 3
   },
   "file_extension": ".py",
   "mimetype": "text/x-python",
   "name": "python",
   "nbconvert_exporter": "python",
   "pygments_lexer": "ipython3",
   "version": "3.8.8"
  }
 },
 "nbformat": 4,
 "nbformat_minor": 5
}
