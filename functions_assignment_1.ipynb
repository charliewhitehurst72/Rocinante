{
 "cells": [
  {
   "cell_type": "code",
   "execution_count": 12,
   "id": "63047488",
   "metadata": {},
   "outputs": [
    {
     "name": "stdout",
     "output_type": "stream",
     "text": [
      "Enter the first number in your operation: 4\n",
      "Enter the basic math operator for the function you would like to perform (e.g. '+', '-', '*', '/'): *\n",
      "Enter the second number in your operation: 12\n",
      "Solution: 48.0\n"
     ]
    }
   ],
   "source": [
    "# Write a program that asks the user to input two numbers and the operator (Add, Subtract, Multiply, Divide). \n",
    "# Create functions for each operator and perform the proper function to print the answer depending on the user's \n",
    "# input.\n",
    "\n",
    "num1 = float(input('Enter the first number in your operation: '))\n",
    "operator = input(\"Enter the basic math operator for the function you would like to perform (e.g. '+', '-', '*', '/'): \")\n",
    "num2 = float(input('Enter the second number in your operation: '))\n",
    "def operation(num1, operator, num2):\n",
    "    if operator == '+':\n",
    "        print('Solution: ' + str(num1 + num2))\n",
    "    elif operator == '-':\n",
    "        print('Solution: ' + str(num1 - num2))\n",
    "    elif operator == '*':\n",
    "        print('Solution: ' + str(num1 * num2))\n",
    "    elif operator == '/':\n",
    "        print('Solution: ' + str(num1 / num2))\n",
    "    else:\n",
    "        print(\"Math operator not recognized!\")\n",
    "operation(num1, operator, num2)"
   ]
  },
  {
   "cell_type": "code",
   "execution_count": null,
   "id": "3d06e924",
   "metadata": {},
   "outputs": [],
   "source": []
  }
 ],
 "metadata": {
  "kernelspec": {
   "display_name": "Python 3",
   "language": "python",
   "name": "python3"
  },
  "language_info": {
   "codemirror_mode": {
    "name": "ipython",
    "version": 3
   },
   "file_extension": ".py",
   "mimetype": "text/x-python",
   "name": "python",
   "nbconvert_exporter": "python",
   "pygments_lexer": "ipython3",
   "version": "3.8.8"
  }
 },
 "nbformat": 4,
 "nbformat_minor": 5
}
