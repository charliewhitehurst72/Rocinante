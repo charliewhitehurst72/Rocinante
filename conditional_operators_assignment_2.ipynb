{
 "cells": [
  {
   "cell_type": "code",
   "execution_count": 9,
   "id": "8dfc4b4e",
   "metadata": {},
   "outputs": [
    {
     "name": "stdout",
     "output_type": "stream",
     "text": [
      "Choose an appt date.\n",
      " For Monday, enter 1.\n",
      " For Tuesday, enter 2.\n",
      " For Wednesday, enter 3.\n",
      " For Thursday, enter 4.\n",
      " For Friday, enter 5.\n",
      "3\n",
      "Your Choice is Wednesday.\n"
     ]
    }
   ],
   "source": [
    "# Write a program that prompts the user to chose an appointment day. Below is an example of what should be displayed to the user and how the program would function if the user typed 3 for Wednesday.\n",
    "#\n",
    "# If the user inputs a value that is not between 1 and 5 then display a message stating that the input was invalid.\n",
    "#\n",
    "#  Choose an appt date.\n",
    "#    For Monday enter 1\n",
    "#    For Tuesday enter 2\n",
    "#    For Wednesday enter 3\n",
    "#    For Thursday enter 4\n",
    "#    For Friday enter 5\n",
    "#    Enter: 3\n",
    "#\n",
    "# Your Choice is Wednesday.\n",
    "\n",
    "appt_date = input('Choose an appt date.\\n For Monday, enter 1.\\n For Tuesday, enter 2.\\n For Wednesday, enter 3.\\n For Thursday, enter 4.\\n For Friday, enter 5.\\n')\n",
    "if int(appt_date) < 1 or int(appt_date) > 5:\n",
    "    print('The date input is invalid.')\n",
    "elif int(appt_date) == 1:\n",
    "    print('Your Choice is Monday.')\n",
    "elif int(appt_date) == 2:\n",
    "    print('Your Choice is Tuesday.')\n",
    "elif int(appt_date) == 3:\n",
    "    print('Your Choice is Wednesday.')\n",
    "elif int(appt_date) == 4:\n",
    "    print('Your Choice is Thursday.')\n",
    "else:\n",
    "    print('Your Choice is Friday.')"
   ]
  },
  {
   "cell_type": "code",
   "execution_count": null,
   "id": "f6c54550",
   "metadata": {},
   "outputs": [],
   "source": []
  },
  {
   "cell_type": "code",
   "execution_count": null,
   "id": "54f78596",
   "metadata": {},
   "outputs": [],
   "source": []
  }
 ],
 "metadata": {
  "kernelspec": {
   "display_name": "Python 3",
   "language": "python",
   "name": "python3"
  },
  "language_info": {
   "codemirror_mode": {
    "name": "ipython",
    "version": 3
   },
   "file_extension": ".py",
   "mimetype": "text/x-python",
   "name": "python",
   "nbconvert_exporter": "python",
   "pygments_lexer": "ipython3",
   "version": "3.8.8"
  }
 },
 "nbformat": 4,
 "nbformat_minor": 5
}
