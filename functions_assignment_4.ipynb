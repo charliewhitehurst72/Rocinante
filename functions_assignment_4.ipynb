{
 "cells": [
  {
   "cell_type": "code",
   "execution_count": 5,
   "id": "832233b7",
   "metadata": {},
   "outputs": [
    {
     "name": "stdout",
     "output_type": "stream",
     "text": [
      "The sum of the numbers in the list is: 45\n"
     ]
    }
   ],
   "source": [
    "# 1) Write a Python function to sum all the numbers in a list.\n",
    "\n",
    "numbers = [1, 2, 3, 4, 5, 6, 7, 8, 9]\n",
    "\n",
    "def list_sum(numbers):\n",
    "    return sum(numbers)\n",
    "print('The sum of the numbers in the list is: ' + str(list_sum(numbers)))"
   ]
  },
  {
   "cell_type": "code",
   "execution_count": 3,
   "id": "b66a348b",
   "metadata": {},
   "outputs": [
    {
     "name": "stdout",
     "output_type": "stream",
     "text": [
      "Please enter your string here: 1234abcd\n",
      "\n",
      "dcba4321\n"
     ]
    }
   ],
   "source": [
    "# 2) Write a Python  function to reverse a string.\n",
    "\n",
    "# Sample String : \"1234abcd\"\n",
    "# Expected Output : \"dcba4321\"\n",
    "\n",
    "entry = input('Please enter your string here: ')\n",
    "\n",
    "def reverse_string(entry):\n",
    "    print('\\n' + str(entry[::-1]))\n",
    "reverse_string(entry)"
   ]
  },
  {
   "cell_type": "code",
   "execution_count": 6,
   "id": "7107869a",
   "metadata": {},
   "outputs": [
    {
     "name": "stdout",
     "output_type": "stream",
     "text": [
      "What is the temperature in degrees Farenheit? 212\n",
      "That's 100.008 degrees Celsius!\n"
     ]
    }
   ],
   "source": [
    "# 3) Write a Python function to calculate to find the celcius to farenheit\n",
    "\n",
    "farenheit_temp = float(input('What is the temperature in degrees Farenheit? '))\n",
    "\n",
    "def convert_to_celsius(farenheit_temp):\n",
    "    print(\"That's \" + str((farenheit_temp - 32) * 0.5556) + \" degrees Celsius!\")\n",
    "convert_to_celsius(farenheit_temp)"
   ]
  },
  {
   "cell_type": "code",
   "execution_count": 9,
   "id": "204a2c34",
   "metadata": {},
   "outputs": [
    {
     "name": "stdout",
     "output_type": "stream",
     "text": [
      "How many years is the term of your mortgage? 15\n",
      "\n",
      "You have a 180-month mortgage.\n"
     ]
    }
   ],
   "source": [
    "# 4) Write a Python function to calculate the number of months for a mortgage based upon years entered.\n",
    "\n",
    "mortgage_years = int(input('How many years is the term of your mortgage? '))\n",
    "\n",
    "def mortgage_in_months(mortgage_years):\n",
    "    print('\\nYou have a ' + str(mortgage_years * 12) + '-month mortgage.')\n",
    "mortgage_in_months(mortgage_years)"
   ]
  },
  {
   "cell_type": "code",
   "execution_count": 1,
   "id": "2cbfe190",
   "metadata": {},
   "outputs": [
    {
     "name": "stdout",
     "output_type": "stream",
     "text": [
      "What is your name? Timmy\n",
      "\n",
      "What is your age in years? 12\n",
      "\n",
      "Hi, Timmy! Your ticket price for Disney World is $70.00.\n"
     ]
    }
   ],
   "source": [
    "# 5) Write a Python function to determine the price of a 100.00 ticket to Disney based on age as follows:\n",
    "# \n",
    "# Ages 0 to 5 =  50% off\n",
    "# Ages 6 to 10 = 40% off\n",
    "# Ages 11 to 15 = 30% off\n",
    "# Ages 16 to 18 = 20% off\n",
    "# Ages 19 to 64 = Full Price\n",
    "# Ages 65 and on = 70% off\n",
    "# Your output should contain the name of the person, their age and the amount of the ticket price.\n",
    "\n",
    "full_price = 100.00\n",
    "name = input('What is your name? ')\n",
    "age = float(input('\\nWhat is your age in years? '))\n",
    "\n",
    "def ticket_price(age):\n",
    "    if age <= 5:\n",
    "        return full_price * .50\n",
    "    elif age <= 10:\n",
    "        return full_price * .60\n",
    "    elif age <= 15:\n",
    "        return full_price * .70\n",
    "    elif age <= 18:\n",
    "        return full_price * .80\n",
    "    elif age >= 65:\n",
    "        return full_price * .30\n",
    "    else: return full_price\n",
    "    \n",
    "print('\\nHi, ' + name +'! Your ticket price for Disney World is ' + '${:,.2f}'.format(ticket_price(age)) + '.')"
   ]
  },
  {
   "cell_type": "code",
   "execution_count": null,
   "id": "072f4c14",
   "metadata": {},
   "outputs": [],
   "source": []
  },
  {
   "cell_type": "code",
   "execution_count": null,
   "id": "30533ad9",
   "metadata": {},
   "outputs": [],
   "source": []
  }
 ],
 "metadata": {
  "kernelspec": {
   "display_name": "Python 3",
   "language": "python",
   "name": "python3"
  },
  "language_info": {
   "codemirror_mode": {
    "name": "ipython",
    "version": 3
   },
   "file_extension": ".py",
   "mimetype": "text/x-python",
   "name": "python",
   "nbconvert_exporter": "python",
   "pygments_lexer": "ipython3",
   "version": "3.8.8"
  }
 },
 "nbformat": 4,
 "nbformat_minor": 5
}
