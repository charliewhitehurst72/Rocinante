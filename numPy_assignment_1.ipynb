{
 "cells": [
  {
   "cell_type": "code",
   "execution_count": 9,
   "id": "3867ea78",
   "metadata": {},
   "outputs": [
    {
     "name": "stdout",
     "output_type": "stream",
     "text": [
      "['The Two Towers' 'Fight Club' 'Seven Samurai' 'The Empire Strikes Back'\n",
      " 'Casablanca']\n"
     ]
    }
   ],
   "source": [
    "import numpy as np\n",
    "\n",
    "# 1). Create a one dimensional array of the 5 movies you like.\n",
    "\n",
    "movies_i_like = np.array(['The Two Towers', 'Fight Club', 'Seven Samurai', 'The Empire Strikes Back', 'Casablanca'])\n",
    "print(movies_i_like)"
   ]
  },
  {
   "cell_type": "code",
   "execution_count": 10,
   "id": "2393dad3",
   "metadata": {},
   "outputs": [
    {
     "name": "stdout",
     "output_type": "stream",
     "text": [
      "[['The Two Towers' 'Fight Club' 'Seven Samurai' 'The Empire Strikes Back'\n",
      "  'Casablanca']\n",
      " ['Viggo Mortensen' 'Edward Norton' 'Toshiro Mifune' 'Mark Hamill'\n",
      "  'Ingrid Bergman']]\n"
     ]
    }
   ],
   "source": [
    "# 2) Create a 2 dimensional array containing the movies and one actor in the movie.\n",
    "\n",
    "movies = np.array([['The Two Towers', 'Fight Club', 'Seven Samurai', 'The Empire Strikes Back', 'Casablanca'], \n",
    "                   ['Viggo Mortensen', 'Edward Norton', 'Toshiro Mifune', 'Mark Hamill', 'Ingrid Bergman']])\n",
    "print(movies)"
   ]
  },
  {
   "cell_type": "code",
   "execution_count": 11,
   "id": "ea4f5d3c",
   "metadata": {},
   "outputs": [
    {
     "name": "stdout",
     "output_type": "stream",
     "text": [
      "Fight Club\n",
      "Edward Norton\n"
     ]
    }
   ],
   "source": [
    "# 3) Print out the second movie and it's associated actor.\n",
    "\n",
    "print(movies[0,1])\n",
    "print(movies[1,1])"
   ]
  },
  {
   "cell_type": "code",
   "execution_count": 12,
   "id": "65914c71",
   "metadata": {},
   "outputs": [
    {
     "name": "stdout",
     "output_type": "stream",
     "text": [
      "[160 200 250]\n"
     ]
    }
   ],
   "source": [
    "# 4). Create arrays with with the following values and add them up.\n",
    "\n",
    "# [10, 20, 30]\n",
    "# [50, 60, 70]\n",
    "# [100, 120, 150]\n",
    "\n",
    "a = np.array([10, 20, 30])\n",
    "b = np.array([50, 60, 70])\n",
    "c = np.array([100, 120, 150])\n",
    "\n",
    "sum1 = a + b + c\n",
    "\n",
    "print(sum1)"
   ]
  },
  {
   "cell_type": "code",
   "execution_count": 13,
   "id": "727370ce",
   "metadata": {},
   "outputs": [
    {
     "name": "stdout",
     "output_type": "stream",
     "text": [
      "[['The Two Towers' 'Viggo Mortensen']\n",
      " ['Fight Club' 'Edward Norton']\n",
      " ['Seven Samurai' 'Toshiro Mifune']\n",
      " ['The Empire Strikes Back' 'Mark Hamill']\n",
      " ['Casablanca' 'Ingrid Bergman']]\n"
     ]
    }
   ],
   "source": [
    "# 5) Transpose the movies and actors from the exercise one and two.\n",
    "\n",
    "print(movies.transpose())"
   ]
  },
  {
   "cell_type": "code",
   "execution_count": null,
   "id": "d9601ed6",
   "metadata": {},
   "outputs": [],
   "source": []
  }
 ],
 "metadata": {
  "kernelspec": {
   "display_name": "Python 3",
   "language": "python",
   "name": "python3"
  },
  "language_info": {
   "codemirror_mode": {
    "name": "ipython",
    "version": 3
   },
   "file_extension": ".py",
   "mimetype": "text/x-python",
   "name": "python",
   "nbconvert_exporter": "python",
   "pygments_lexer": "ipython3",
   "version": "3.8.8"
  }
 },
 "nbformat": 4,
 "nbformat_minor": 5
}
