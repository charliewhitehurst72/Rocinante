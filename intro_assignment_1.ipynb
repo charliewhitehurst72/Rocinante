{
 "cells": [
  {
   "cell_type": "code",
   "execution_count": 2,
   "id": "8b757aaa",
   "metadata": {},
   "outputs": [],
   "source": [
    "# Question 1: What is Python and why is it useful?\n",
    "#\n",
    "# Answer: Python is a general purpose, interpreted, interactive, object-oriented, high-level programming language. It\n",
    "# is useful because it is strong and dynamically typed, has every variable as an object, has a dynamic community and\n",
    "# user group, and is focused on reliability and productivity."
   ]
  },
  {
   "cell_type": "code",
   "execution_count": 3,
   "id": "33375d1e",
   "metadata": {},
   "outputs": [],
   "source": [
    "# Question 2: Are the following variable names allowed in python?\n",
    "# 1. 1_message\n",
    "# 2. Greeting_message\n",
    "# 3. Message_1\n",
    "# 4. First name\n",
    "# 5. Full_name\n",
    "#\n",
    "# Answers:\n",
    "#\n",
    "# 1. no\n",
    "# 2. yes\n",
    "# 3. yes\n",
    "# 4. no\n",
    "# 5. yes"
   ]
  },
  {
   "cell_type": "code",
   "execution_count": 4,
   "id": "943b5f61",
   "metadata": {},
   "outputs": [
    {
     "name": "stdout",
     "output_type": "stream",
     "text": [
      "hello there!\n"
     ]
    }
   ],
   "source": [
    "# Question 3: Create a variable that holds the string “hello there!”\n",
    "#\n",
    "greeting = \"hello there!\"\n",
    "print(greeting)"
   ]
  },
  {
   "cell_type": "code",
   "execution_count": 7,
   "id": "5c2cfc07",
   "metadata": {},
   "outputs": [
    {
     "name": "stdout",
     "output_type": "stream",
     "text": [
      "charliewhitehurst@gmail.com\n"
     ]
    }
   ],
   "source": [
    "# Question 4: Create a variable for first name, last name and an email extension, concatenating all three together to\n",
    "# form an email address.  For example: firstnamelastname@gmail.com\n",
    "#\n",
    "first_name = 'charlie'\n",
    "last_name = 'whitehurst'\n",
    "extension = '@gmail.com'\n",
    "email_address = first_name + last_name + extension\n",
    "print(email_address)"
   ]
  },
  {
   "cell_type": "code",
   "execution_count": 9,
   "id": "dc13acf2",
   "metadata": {},
   "outputs": [
    {
     "name": "stdout",
     "output_type": "stream",
     "text": [
      "KYLE\n",
      "kyle\n"
     ]
    }
   ],
   "source": [
    "# Question 5: Store someone you know's name in a variable called name. Print their name in lower and uppercase using a\n",
    "# method.\n",
    "#\n",
    "name = 'Kyle' \n",
    "print(name.upper())\n",
    "print(name.lower())"
   ]
  },
  {
   "cell_type": "code",
   "execution_count": 12,
   "id": "f2110078",
   "metadata": {},
   "outputs": [
    {
     "name": "stdout",
     "output_type": "stream",
     "text": [
      "Hey Kyle, do you want to hang out on the 15th of this month?\n"
     ]
    }
   ],
   "source": [
    "# Question 6: Using a variable, ask your friend if they want to hang out on the 15th of the month. For example, “Do\n",
    "# you want to hang out on the 15th of this month?”  You should have to convert the number to a string.\n",
    "#\n",
    "friend = 'Kyle'\n",
    "greeting = 'Hey '\n",
    "question_part_one = ', do you want to hang out on the '\n",
    "day = 15\n",
    "question_part_two = 'th of this month?'\n",
    "print(greeting + friend + question_part_one + str(day) + question_part_two)"
   ]
  },
  {
   "cell_type": "code",
   "execution_count": null,
   "id": "857ba861",
   "metadata": {},
   "outputs": [],
   "source": []
  }
 ],
 "metadata": {
  "kernelspec": {
   "display_name": "Python 3",
   "language": "python",
   "name": "python3"
  },
  "language_info": {
   "codemirror_mode": {
    "name": "ipython",
    "version": 3
   },
   "file_extension": ".py",
   "mimetype": "text/x-python",
   "name": "python",
   "nbconvert_exporter": "python",
   "pygments_lexer": "ipython3",
   "version": "3.8.8"
  }
 },
 "nbformat": 4,
 "nbformat_minor": 5
}
