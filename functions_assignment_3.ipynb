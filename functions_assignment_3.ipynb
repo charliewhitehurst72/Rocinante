{
 "cells": [
  {
   "cell_type": "code",
   "execution_count": 3,
   "id": "8afff385",
   "metadata": {},
   "outputs": [
    {
     "name": "stdout",
     "output_type": "stream",
     "text": [
      "What is your full name? Charlie Whitehurst\n",
      "How much money do you make per hour? 19.88\n",
      "How many hours did you work this week? 45\n",
      "\n",
      "Weekly Payroll for Charlie Whitehurst:\n",
      "\n",
      "\n",
      "Gross Income: $944.30\n",
      "\n",
      "Federal Income Tax: $188.86\n",
      "\n",
      "State Income Tax: $66.10\n",
      "\n",
      "Social Security Tax: $61.38\n",
      "\n",
      "Health Insurance: $47.22\n",
      "\n",
      "401k Contributions: $66.10\n",
      "\n",
      "\n",
      "Net Income: $514.64\n"
     ]
    }
   ],
   "source": [
    "name = input('What is your full name? ')\n",
    "hourly_pay_rate = float(input('How much money do you make per hour? '))\n",
    "worked_hours = float(input('How many hours did you work this week? '))\n",
    "ot_hours = (worked_hours - 40) * hourly_pay_rate * 1.5\n",
    "\n",
    "def gross_income():\n",
    "    if worked_hours <= 40:\n",
    "        return hourly_pay_rate * worked_hours\n",
    "    else:\n",
    "        return 40 * hourly_pay_rate + ot_hours\n",
    "\n",
    "def federal_tax(pay):\n",
    "    return .20 * pay\n",
    "\n",
    "def state_tax(pay):\n",
    "    return .07 * pay\n",
    "\n",
    "def social_sec_tax(pay):\n",
    "    return .065 * pay\n",
    "\n",
    "def health_coverage(pay):\n",
    "    return .05 * pay\n",
    "\n",
    "def retirement_contributions(pay):\n",
    "    return .07 * pay\n",
    "\n",
    "net_pay = gross_income() - federal_tax(gross_income()) - state_tax(gross_income()) - social_sec_tax(gross_income()) - health_coverage(gross_income()) - retirement_contributions(gross_income())\n",
    "\n",
    "print('\\nWeekly Payroll for ' + name + ':')\n",
    "print('\\n\\nGross Income: ' + '${:,.2f}'.format(gross_income()))\n",
    "print('\\nFederal Income Tax: ' + '${:,.2f}'.format(federal_tax(gross_income())))\n",
    "print('\\nState Income Tax: ' + '${:,.2f}'.format(state_tax(gross_income())))\n",
    "print('\\nSocial Security Tax: ' + '${:,.2f}'.format(social_sec_tax(gross_income())))\n",
    "print('\\nHealth Insurance: ' + '${:,.2f}'.format(health_coverage(gross_income())))\n",
    "print('\\n401k Contributions: ' + '${:,.2f}'.format(retirement_contributions(gross_income())))\n",
    "print('\\n\\nNet Income: ' + '${:,.2f}'.format(net_pay))"
   ]
  },
  {
   "cell_type": "code",
   "execution_count": null,
   "id": "2c0c1382",
   "metadata": {},
   "outputs": [],
   "source": []
  }
 ],
 "metadata": {
  "kernelspec": {
   "display_name": "Python 3",
   "language": "python",
   "name": "python3"
  },
  "language_info": {
   "codemirror_mode": {
    "name": "ipython",
    "version": 3
   },
   "file_extension": ".py",
   "mimetype": "text/x-python",
   "name": "python",
   "nbconvert_exporter": "python",
   "pygments_lexer": "ipython3",
   "version": "3.8.8"
  }
 },
 "nbformat": 4,
 "nbformat_minor": 5
}
