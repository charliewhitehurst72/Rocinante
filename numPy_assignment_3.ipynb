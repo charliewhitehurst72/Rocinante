{
 "cells": [
  {
   "cell_type": "code",
   "execution_count": 4,
   "id": "0e0f7aaa",
   "metadata": {},
   "outputs": [
    {
     "name": "stdout",
     "output_type": "stream",
     "text": [
      "[28000 45000 54000 23000 54000 61000 30000]\n"
     ]
    }
   ],
   "source": [
    "import numpy as np\n",
    "\n",
    "# 1). Create an array with the following yearly salary values:\n",
    "\n",
    "# 28,000, 45,000, 54,000, 23,000,\n",
    "# 86,000, 91,000, 54,000, 125,000\n",
    "# 81,000, 61,000, 94,000, 30,000\n",
    "# Use a boolean array to filter out all salaries that exceed 70,000\n",
    "\n",
    "salaries = np.array([[28000, 45000, 54000, 23000], [86000, 91000, 54000, 125000], [81000, 61000, 94000, 30000]])\n",
    "low_salaries = salaries <= 70000\n",
    "print(salaries[low_salaries])"
   ]
  },
  {
   "cell_type": "code",
   "execution_count": 9,
   "id": "764129cc",
   "metadata": {},
   "outputs": [
    {
     "name": "stdout",
     "output_type": "stream",
     "text": [
      "[195000 197000 202000 178000]\n",
      "The grand total of all salaries is $772,000.00.\n"
     ]
    }
   ],
   "source": [
    "# 2). Add up all of the values in the array for a grand total of salaries.\n",
    "\n",
    "column_sum = sum(salaries)\n",
    "print(column_sum)\n",
    "total_salaries = column_sum[0] + column_sum[1] + column_sum[2] + column_sum[3]\n",
    "print('The grand total of all salaries is ' + '${:,.2f}'.format(total_salaries) + '.')"
   ]
  },
  {
   "cell_type": "code",
   "execution_count": null,
   "id": "309507c7",
   "metadata": {},
   "outputs": [],
   "source": []
  }
 ],
 "metadata": {
  "kernelspec": {
   "display_name": "Python 3",
   "language": "python",
   "name": "python3"
  },
  "language_info": {
   "codemirror_mode": {
    "name": "ipython",
    "version": 3
   },
   "file_extension": ".py",
   "mimetype": "text/x-python",
   "name": "python",
   "nbconvert_exporter": "python",
   "pygments_lexer": "ipython3",
   "version": "3.8.8"
  }
 },
 "nbformat": 4,
 "nbformat_minor": 5
}
