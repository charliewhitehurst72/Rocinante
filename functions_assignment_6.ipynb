{
 "cells": [
  {
   "cell_type": "code",
   "execution_count": 10,
   "id": "ed39cc18",
   "metadata": {},
   "outputs": [
    {
     "name": "stdout",
     "output_type": "stream",
     "text": [
      "We have flights to Hartford, Tampa, Nashville, and Los Angeles. \n",
      "\n",
      "To which city would you like to travel? tampa\n",
      "\n",
      "Your flight to Tampa will cost $220.00\n"
     ]
    }
   ],
   "source": [
    "# Use Python functions to calculate the cost of a vacation with the following function:\n",
    "# \n",
    "# 1) Define a function called plane_ride_cost that takes a string, city, as input. \n",
    "# The function should return a different price depending on the location. \n",
    "# Below are the valid destinations and their corresponding round-trip prices.\n",
    "\n",
    "# \"Hartford\": 183\n",
    "# \"Tampa\": 220\n",
    "# \"Nashville\": 222\n",
    "# \"Los Angeles\": 475\n",
    "# An example of your out is as follows:\n",
    "\n",
    "# Your flight to Nashville is 222.00.\n",
    "\n",
    "city = input('We have flights to Hartford, Tampa, Nashville, and Los Angeles. \\n\\nTo which city would you like to travel? ')\n",
    "\n",
    "def plane_ride_cost(city):\n",
    "    if city.upper() == 'HARTFORD':\n",
    "        return 183.00\n",
    "    elif city.upper() == 'TAMPA':\n",
    "        return 220.00\n",
    "    elif city.upper() == 'NASHVILLE':\n",
    "        return 222.00\n",
    "    elif city.upper() == 'LOS ANGELES':\n",
    "        return 475.00\n",
    "    else:\n",
    "        return 0\n",
    "\n",
    "plane_ride_cost(city)\n",
    "\n",
    "if plane_ride_cost(city) == 0:\n",
    "    print('\\nYour destination entry is invalid.')\n",
    "else:\n",
    "    print('\\nYour flight to ' + city.title() + ' will cost ' + '${:,.2f}'.format(plane_ride_cost(city)))"
   ]
  },
  {
   "cell_type": "code",
   "execution_count": 3,
   "id": "c2b63d96",
   "metadata": {},
   "outputs": [
    {
     "name": "stdout",
     "output_type": "stream",
     "text": [
      "How many days will you be needing a rental car? 4\n",
      "The cost of your car rental will be $140.00\n"
     ]
    }
   ],
   "source": [
    "# 2) Define a function called rental_car_cost with an argument called days. \n",
    "# Calculate the cost of renting the car using the following logic:\n",
    "\n",
    "# Every day you rent the car costs $40.00 (cost=40.00 * number of days).\n",
    "# If you rent the car for 3 or more days, you get $20 off your total. \n",
    "# If you rent the car for 7 or more days, you get $50 off your total (cost - 50.00). \n",
    "# You cannot get both discounts. Return that cost. \n",
    "\n",
    "days = float(input('How many days will you be needing a rental car? '))\n",
    "base_cost = 40.00\n",
    "\n",
    "def rental_car_cost(days):\n",
    "    if days < 3:\n",
    "        return days * base_cost\n",
    "    elif days >= 3 and days < 7:\n",
    "        return days * base_cost - 20.00\n",
    "    else:\n",
    "        return days * base_cost - 50.00\n",
    "    \n",
    "rental_car_cost(days)\n",
    "print('\\nThe cost of your car rental will be ' + '${:,.2f}'.format(rental_car_cost(days)))"
   ]
  },
  {
   "cell_type": "code",
   "execution_count": 9,
   "id": "1c605803",
   "metadata": {},
   "outputs": [
    {
     "name": "stdout",
     "output_type": "stream",
     "text": [
      "How many days will you be staying? 4\n",
      "\n",
      "Your stay will cost $400.00\n"
     ]
    }
   ],
   "source": [
    "# 3) Define a function to calculate hotel costs of 100.00 per day. You will need to pass in the parameter for days.\n",
    "\n",
    "days = float(input('How many days will you be staying? '))\n",
    "room_cost = 100.00\n",
    "\n",
    "def hotel_stay_cost(days):\n",
    "    return days * room_cost\n",
    "\n",
    "hotel_stay_cost(days)\n",
    "\n",
    "print('\\nYour stay will cost ' + '${:,.2f}'.format(hotel_stay_cost(days)))"
   ]
  },
  {
   "cell_type": "code",
   "execution_count": 8,
   "id": "3e319216",
   "metadata": {},
   "outputs": [
    {
     "name": "stdout",
     "output_type": "stream",
     "text": [
      "We have flights to Hartford, Tampa, Nashville, and Los Angeles. \n",
      "\n",
      "To which city would you like to travel? tampa\n",
      "\n",
      "How many days will you be staying? 4\n",
      "\n",
      "The total cost of your trip, including hotel, airfare, and car rental, is $760.00.\n"
     ]
    }
   ],
   "source": [
    "# 4) Define a function called trip_cost that takes two arguments, city and days, \n",
    "# Having your function return the sum of calling the rental_car_cost(days), \n",
    "# hotel_cost(days), and plane_ride_cost(city) functions.\n",
    "\n",
    "city = input('We have flights to Hartford, Tampa, Nashville, and Los Angeles. \\n\\nTo which city would you like to travel? ')\n",
    "days = float(input('\\nHow many days will you be staying? '))\n",
    "\n",
    "def trip_cost(city, days):\n",
    "    return plane_ride_cost(city) + rental_car_cost(days) + hotel_stay_cost(days)\n",
    "\n",
    "print('\\nThe total cost of your trip, including hotel, airfare, and car rental, is ' + '${:,.2f}'.format(trip_cost(city, days)) + '.')    "
   ]
  },
  {
   "cell_type": "code",
   "execution_count": null,
   "id": "42e70a6d",
   "metadata": {},
   "outputs": [],
   "source": []
  }
 ],
 "metadata": {
  "kernelspec": {
   "display_name": "Python 3",
   "language": "python",
   "name": "python3"
  },
  "language_info": {
   "codemirror_mode": {
    "name": "ipython",
    "version": 3
   },
   "file_extension": ".py",
   "mimetype": "text/x-python",
   "name": "python",
   "nbconvert_exporter": "python",
   "pygments_lexer": "ipython3",
   "version": "3.8.8"
  }
 },
 "nbformat": 4,
 "nbformat_minor": 5
}
