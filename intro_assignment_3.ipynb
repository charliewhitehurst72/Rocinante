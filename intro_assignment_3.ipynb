{
 "cells": [
  {
   "cell_type": "code",
   "execution_count": 1,
   "id": "1c79633e",
   "metadata": {},
   "outputs": [],
   "source": [
    "# Compute a person's income tax.\n",
    "#\n",
    "# 1. Significant constants\n",
    "#       tax rate = 10%\n",
    "#       deduction = 15%\n",
    "#\n",
    "# 2. The inputs are\n",
    "#       gross income \n",
    "#   \n",
    "# 3. Computations:\n",
    "#       taxable income = gross income - deduction\n",
    "#       income tax =  tax rate times taxable income\n",
    "# 4. The outputs are\n",
    "#       Gross income\n",
    "#\n",
    "#       Taxable Income\n",
    "#\n",
    "#       Income Tax"
   ]
  },
  {
   "cell_type": "code",
   "execution_count": 9,
   "id": "8ae77f98",
   "metadata": {},
   "outputs": [
    {
     "name": "stdout",
     "output_type": "stream",
     "text": [
      "Gross Income: $70000.0\n",
      "Taxable Income: $59500.0\n",
      "Income Tax: $5950.0\n"
     ]
    }
   ],
   "source": [
    "tax_rate = 0.1\n",
    "gross_income = 70000.00\n",
    "deduction = gross_income * 0.15\n",
    "taxable_income = gross_income - deduction\n",
    "income_tax = tax_rate * taxable_income\n",
    "print('Gross Income: $' + str(gross_income) + '\\nTaxable Income: $' + str(taxable_income) + '\\nIncome Tax: $' + str(income_tax))"
   ]
  },
  {
   "cell_type": "code",
   "execution_count": null,
   "id": "b82e0c69",
   "metadata": {},
   "outputs": [],
   "source": []
  }
 ],
 "metadata": {
  "kernelspec": {
   "display_name": "Python 3",
   "language": "python",
   "name": "python3"
  },
  "language_info": {
   "codemirror_mode": {
    "name": "ipython",
    "version": 3
   },
   "file_extension": ".py",
   "mimetype": "text/x-python",
   "name": "python",
   "nbconvert_exporter": "python",
   "pygments_lexer": "ipython3",
   "version": "3.8.8"
  }
 },
 "nbformat": 4,
 "nbformat_minor": 5
}
