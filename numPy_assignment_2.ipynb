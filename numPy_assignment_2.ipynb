{
 "cells": [
  {
   "cell_type": "code",
   "execution_count": 23,
   "id": "a734a02e",
   "metadata": {},
   "outputs": [
    {
     "name": "stdout",
     "output_type": "stream",
     "text": [
      "[['New England' 'New York' 'Tennessee' 'Carolina' 'Dallas']\n",
      " ['Patriots' 'Giants' 'Titans' 'Panthers' 'Cowboys']]\n"
     ]
    }
   ],
   "source": [
    "import numpy as np\n",
    "\n",
    "# 1). Create an array with 2 dimensions using the following values.\n",
    "\n",
    "# New England : Patriots\n",
    "\n",
    "# New York : Giants\n",
    "\n",
    "# Tennessee : Titans\n",
    "\n",
    "# Carolina : Panthers\n",
    "\n",
    "# Dallas : Cowboys\n",
    "\n",
    "teams = np.array([['New England', 'New York', 'Tennessee', 'Carolina', 'Dallas'], \n",
    "                  ['Patriots', 'Giants', 'Titans', 'Panthers', 'Cowboys']])\n",
    "\n",
    "print(teams)"
   ]
  },
  {
   "cell_type": "code",
   "execution_count": 24,
   "id": "96f31b79",
   "metadata": {},
   "outputs": [
    {
     "name": "stdout",
     "output_type": "stream",
     "text": [
      "Dimensions: 2\n",
      "\n",
      "Shape: (2, 5)\n",
      "\n",
      "Size: 10\n"
     ]
    }
   ],
   "source": [
    "# 2). Print the the number of dimensions, shape, size and data type of the array.\n",
    "\n",
    "print('Dimensions: ' + str(teams.ndim) + '\\n\\nShape: ' + str(teams.shape) + '\\n\\nSize: ' + str(teams.size))"
   ]
  },
  {
   "cell_type": "code",
   "execution_count": 25,
   "id": "feec27a8",
   "metadata": {},
   "outputs": [
    {
     "name": "stdout",
     "output_type": "stream",
     "text": [
      "[['New England' 'New York' 'Tennessee' 'Carolina' 'Dallas']\n",
      " ['Patriots' 'Giants' 'Titans' 'Panthers' 'Cowboys']]\n"
     ]
    }
   ],
   "source": [
    "# 3). Make a copy of the array you created.\n",
    "\n",
    "teams_copy = teams.copy()\n",
    "print(teams_copy)"
   ]
  },
  {
   "cell_type": "code",
   "execution_count": 26,
   "id": "fbb5f26a",
   "metadata": {},
   "outputs": [
    {
     "name": "stdout",
     "output_type": "stream",
     "text": [
      "[['New England' 'New York' 'Tennessee' 'Carolina' 'Dallas']\n",
      " ['Patriots' 'Giants' 'Titans' 'Panthers' 'Cowboys']]\n",
      "\n",
      "\n",
      "[['New England' 'New York' 'Tennessee' 'Carolina' 'Dallas']\n",
      " ['Patriots' 'Giants' 'Titans' 'Panthers' 'Cowboys']]\n"
     ]
    }
   ],
   "source": [
    "# 4). Do a check to make sure that the copy of the array you created is identical to the original.\n",
    "\n",
    "print(teams)\n",
    "print('\\n')\n",
    "print(teams_copy)"
   ]
  },
  {
   "cell_type": "code",
   "execution_count": 38,
   "id": "4b4c72ea",
   "metadata": {},
   "outputs": [
    {
     "name": "stdout",
     "output_type": "stream",
     "text": [
      "(array(['Tennessee', 'Carolina', 'Dallas'], dtype='<U11'), array(['Titans', 'Panthers', 'Cowboys'], dtype='<U11'))\n"
     ]
    }
   ],
   "source": [
    "# 5). Create a \"reduced view\" showing only the Tennessee Titans, Carolina Panthers, and Dallas Cowboys.\n",
    "\n",
    "reduced_view = teams[0,2:5],teams[1,2:5]\n",
    "print(reduced_view)"
   ]
  },
  {
   "cell_type": "code",
   "execution_count": null,
   "id": "cbbf24cc",
   "metadata": {},
   "outputs": [],
   "source": []
  }
 ],
 "metadata": {
  "kernelspec": {
   "display_name": "Python 3",
   "language": "python",
   "name": "python3"
  },
  "language_info": {
   "codemirror_mode": {
    "name": "ipython",
    "version": 3
   },
   "file_extension": ".py",
   "mimetype": "text/x-python",
   "name": "python",
   "nbconvert_exporter": "python",
   "pygments_lexer": "ipython3",
   "version": "3.8.8"
  }
 },
 "nbformat": 4,
 "nbformat_minor": 5
}
