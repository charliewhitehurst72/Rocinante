{
 "cells": [
  {
   "cell_type": "code",
   "execution_count": 1,
   "id": "ab7c2e6a",
   "metadata": {},
   "outputs": [],
   "source": [
    "# 1. Create a list that holds 5 data variables.\n",
    "# \n",
    "elves = ['Elrond', 'Galadriel', 'Haldir', 'Celeborn', 'Arwen']"
   ]
  },
  {
   "cell_type": "code",
   "execution_count": 2,
   "id": "49b103c9",
   "metadata": {},
   "outputs": [
    {
     "name": "stdout",
     "output_type": "stream",
     "text": [
      "Elrond\n",
      "Galadriel\n",
      "Haldir\n",
      "Celeborn\n",
      "Arwen\n"
     ]
    }
   ],
   "source": [
    "# 2. Print out those variables by using a for loop.\n",
    "#\n",
    "for elf in elves:\n",
    "    print(elf)"
   ]
  },
  {
   "cell_type": "code",
   "execution_count": 7,
   "id": "8e7fb969",
   "metadata": {},
   "outputs": [
    {
     "name": "stdout",
     "output_type": "stream",
     "text": [
      "Elrond is one of the Elves active during the Third Age of Middle-Earth.\n",
      "Galadriel is one of the Elves active during the Third Age of Middle-Earth.\n",
      "Haldir is one of the Elves active during the Third Age of Middle-Earth.\n",
      "Celeborn is one of the Elves active during the Third Age of Middle-Earth.\n",
      "Arwen is one of the Elves active during the Third Age of Middle-Earth.\n"
     ]
    }
   ],
   "source": [
    "# 3. Modify your for loop to add a message to your for loop.\n",
    "#\n",
    "for elf in elves:\n",
    "    print(elf + ' is one of the Elves active during the Third Age of Middle-Earth.')"
   ]
  },
  {
   "cell_type": "code",
   "execution_count": 12,
   "id": "a29afa5a",
   "metadata": {
    "scrolled": true
   },
   "outputs": [
    {
     "name": "stdout",
     "output_type": "stream",
     "text": [
      "2\n",
      "4\n",
      "6\n",
      "8\n",
      "10\n",
      "12\n",
      "14\n",
      "16\n",
      "18\n",
      "20\n"
     ]
    }
   ],
   "source": [
    "# 4. Use a for loop to print even numbers from 1-20.\n",
    "#\n",
    "for num in range(2,21,2):\n",
    "    print(num)"
   ]
  },
  {
   "cell_type": "code",
   "execution_count": 14,
   "id": "6a9d41b1",
   "metadata": {},
   "outputs": [
    {
     "name": "stdout",
     "output_type": "stream",
     "text": [
      "['Arwen', 'Celeborn', 'Elrond', 'Galadriel', 'Haldir']\n",
      "Arwen\n",
      "Celeborn\n",
      "Elrond\n",
      "Galadriel\n",
      "Haldir\n"
     ]
    }
   ],
   "source": [
    "# 5. Sort your list in alphabetic order.\n",
    "#\n",
    "elves.sort()\n",
    "print(elves)\n",
    "for elf in elves:\n",
    "    print(elf)"
   ]
  },
  {
   "cell_type": "code",
   "execution_count": 19,
   "id": "f5d60038",
   "metadata": {},
   "outputs": [
    {
     "name": "stdout",
     "output_type": "stream",
     "text": [
      "Arwen\n",
      "Celeborn\n",
      "Elrond\n",
      "['Arwen', 'Celeborn', 'Elrond']\n"
     ]
    }
   ],
   "source": [
    "# 6. Print out the first three elements of your list.\n",
    "#\n",
    "for elf in elves[:3]:\n",
    "    print(elf)\n",
    "print(elves[:3])"
   ]
  },
  {
   "cell_type": "code",
   "execution_count": 21,
   "id": "d1ebb1ab",
   "metadata": {},
   "outputs": [
    {
     "name": "stdout",
     "output_type": "stream",
     "text": [
      "Galadriel\n",
      "Haldir\n"
     ]
    }
   ],
   "source": [
    "# 7. Create a loop to print the last 2 elements of your list.\n",
    "#\n",
    "for elf in elves[-2:]:\n",
    "    print(elf)"
   ]
  },
  {
   "cell_type": "code",
   "execution_count": null,
   "id": "9a5ed9d0",
   "metadata": {},
   "outputs": [],
   "source": []
  }
 ],
 "metadata": {
  "kernelspec": {
   "display_name": "Python 3",
   "language": "python",
   "name": "python3"
  },
  "language_info": {
   "codemirror_mode": {
    "name": "ipython",
    "version": 3
   },
   "file_extension": ".py",
   "mimetype": "text/x-python",
   "name": "python",
   "nbconvert_exporter": "python",
   "pygments_lexer": "ipython3",
   "version": "3.8.8"
  }
 },
 "nbformat": 4,
 "nbformat_minor": 5
}
