{
 "cells": [
  {
   "cell_type": "code",
   "execution_count": 12,
   "id": "032d94ff",
   "metadata": {},
   "outputs": [
    {
     "name": "stdout",
     "output_type": "stream",
     "text": [
      "What number would you like to check to see if it's prime? 19\n",
      "19 is prime.\n"
     ]
    }
   ],
   "source": [
    "# 1). Write a Python function that takes a number as a parameter and checks if the number is prime or not. \n",
    "\n",
    "number = int(input(\"What number would you like to check to see if it's prime? \"))\n",
    "\n",
    "def prime(number): \n",
    "    if number == 1: \n",
    "        print(\"1 isn't a prime number because it only has one divisor.\") \n",
    "    else: \n",
    "        half_by = 2 \n",
    "        div = False \n",
    "        while half_by <= number//2: \n",
    "            check = number%half_by \n",
    "            if check == 0: \n",
    "                div = True \n",
    "            half_by += 1 \n",
    "        if div == False: \n",
    "            print(str(number) + \" is prime.\") \n",
    "        else: \n",
    "            print(str(number) + \" isn't prime.\")\n",
    "prime(number)"
   ]
  },
  {
   "cell_type": "code",
   "execution_count": 14,
   "id": "202f76c0",
   "metadata": {},
   "outputs": [
    {
     "name": "stdout",
     "output_type": "stream",
     "text": [
      "Enter a number of miles. 7\n",
      "That's 11.265408 kilometers!\n"
     ]
    }
   ],
   "source": [
    "# 2). Write a Python function to convert miles to kilometers.\n",
    "\n",
    "miles = float(input('Enter a number of miles. '))\n",
    "\n",
    "def convert_to_km(miles):\n",
    "    print(\"That's \" + str(miles * 1.609344) + \" kilometers!\")\n",
    "convert_to_km(miles)"
   ]
  },
  {
   "cell_type": "code",
   "execution_count": 15,
   "id": "86a47bb3",
   "metadata": {},
   "outputs": [
    {
     "name": "stdout",
     "output_type": "stream",
     "text": [
      "Enter a number to cube. 3\n",
      "Cubed, that's 27.0.\n"
     ]
    }
   ],
   "source": [
    "# 3). Make that function return the cube of a number (i.e. that number multiplied by itself and multiplied by\n",
    "# itself once again).\n",
    "\n",
    "entry = float(input('Enter a number to cube. '))\n",
    "\n",
    "def cube(entry):\n",
    "    print(\"Cubed, that's \" + str(entry ** 3) + \".\")\n",
    "cube(entry)"
   ]
  },
  {
   "cell_type": "code",
   "execution_count": 2,
   "id": "c608753e",
   "metadata": {},
   "outputs": [
    {
     "name": "stdout",
     "output_type": "stream",
     "text": [
      "Enter a string of characters here: My name is Charlie Whitehurst and I am a Data Analytics student.\n",
      "The number of uppercase characters in your string is 6.\n",
      "The number of lowercase characters in your string is 46.\n"
     ]
    }
   ],
   "source": [
    "# 4). Write a Python function to determine the number of uppercase and lowercase letters in a string.\n",
    "\n",
    "string = input('Enter a string of characters here: ')\n",
    "\n",
    "def character_count(string):\n",
    "    lowercase = 0\n",
    "    uppercase = 0\n",
    "    for c in string:\n",
    "        if c.isupper():\n",
    "            uppercase += 1\n",
    "        elif c.islower():\n",
    "            lowercase += 1\n",
    "    print('The number of uppercase characters in your string is ' + str(uppercase) +'.')\n",
    "    print('The number of lowercase characters in your string is ' + str(lowercase) +'.')\n",
    "character_count(string)"
   ]
  },
  {
   "cell_type": "code",
   "execution_count": null,
   "id": "2b43b1d3",
   "metadata": {},
   "outputs": [],
   "source": []
  },
  {
   "cell_type": "code",
   "execution_count": null,
   "id": "ff329fe8",
   "metadata": {},
   "outputs": [],
   "source": []
  }
 ],
 "metadata": {
  "kernelspec": {
   "display_name": "Python 3",
   "language": "python",
   "name": "python3"
  },
  "language_info": {
   "codemirror_mode": {
    "name": "ipython",
    "version": 3
   },
   "file_extension": ".py",
   "mimetype": "text/x-python",
   "name": "python",
   "nbconvert_exporter": "python",
   "pygments_lexer": "ipython3",
   "version": "3.8.8"
  }
 },
 "nbformat": 4,
 "nbformat_minor": 5
}
