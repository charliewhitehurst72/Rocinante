{
 "cells": [
  {
   "cell_type": "code",
   "execution_count": 1,
   "id": "737c0611",
   "metadata": {},
   "outputs": [
    {
     "name": "stdout",
     "output_type": "stream",
     "text": [
      "Enter a decimal number to add unless you want to quit. If you want to quit, type nothing and press 'enter'. 3.9\n",
      "Your total is 3.9. Enter another decimal number, or type nothing and press 'enter' to quit.4.6\n",
      "Your total is 8.5. Enter another decimal number, or type nothing and press 'enter' to quit.3.3\n",
      "Your total is 11.8. Enter another decimal number, or type nothing and press 'enter' to quit.2.0\n",
      "Your total is 13.8. Enter another decimal number, or type nothing and press 'enter' to quit.4.6\n",
      "Your total is 18.4. Enter another decimal number, or type nothing and press 'enter' to quit.0.5\n",
      "Your total is 18.9. Enter another decimal number, or type nothing and press 'enter' to quit.\n",
      "The total of all entries is 18.9.\n"
     ]
    }
   ],
   "source": [
    "# Write a program that will accept decimal numbers from the user until the user enters nothing and print the sum of\n",
    "# the numbers.\n",
    "\n",
    "entry = input(\"Enter a decimal number to add unless you want to quit. If you want to quit, type nothing and press 'enter'. \")\n",
    "total = float(entry)\n",
    "while entry != '':\n",
    "    entry = input(\"Your total is \" + str(total) + \". Enter another decimal number, or type nothing and press 'enter' to quit.\" )\n",
    "    if entry != '':\n",
    "        total += float(entry)\n",
    "print('The total of all entries is ' + str(total) + '.')"
   ]
  },
  {
   "cell_type": "code",
   "execution_count": null,
   "id": "bf389c3f",
   "metadata": {},
   "outputs": [],
   "source": []
  }
 ],
 "metadata": {
  "kernelspec": {
   "display_name": "Python 3",
   "language": "python",
   "name": "python3"
  },
  "language_info": {
   "codemirror_mode": {
    "name": "ipython",
    "version": 3
   },
   "file_extension": ".py",
   "mimetype": "text/x-python",
   "name": "python",
   "nbconvert_exporter": "python",
   "pygments_lexer": "ipython3",
   "version": "3.8.8"
  }
 },
 "nbformat": 4,
 "nbformat_minor": 5
}
