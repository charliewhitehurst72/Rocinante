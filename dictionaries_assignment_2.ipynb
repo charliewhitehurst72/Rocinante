{
 "cells": [
  {
   "cell_type": "code",
   "execution_count": 6,
   "id": "1515d277",
   "metadata": {},
   "outputs": [],
   "source": [
    "# Name: Charlie Whitehurst\n",
    "#\n",
    "# Lesson: Unit 2 – Python Dictionaries\n",
    "#\n",
    "# Create a simple dictionary that stores 2 variables, for example: first and last name.\n",
    "\n",
    "client_1 = {'first_name': 'Tracy', 'last_name': 'Morgan'}"
   ]
  },
  {
   "cell_type": "code",
   "execution_count": 7,
   "id": "e9d496cd",
   "metadata": {},
   "outputs": [
    {
     "name": "stdout",
     "output_type": "stream",
     "text": [
      "{'first_name': 'Tracy', 'last_name': 'Morgan'}\n"
     ]
    }
   ],
   "source": [
    "# Print out those variables stored in your previous dictionary.\n",
    "\n",
    "print(client_1)"
   ]
  },
  {
   "cell_type": "code",
   "execution_count": 8,
   "id": "5ec532e3",
   "metadata": {},
   "outputs": [
    {
     "name": "stdout",
     "output_type": "stream",
     "text": [
      "Hello, Tracy Morgan!\n"
     ]
    }
   ],
   "source": [
    "# Add a message to those variables on printing: for example: “Hello, firstname lastname!”\n",
    "\n",
    "full_name = client_1['first_name'] + ' ' + client_1['last_name']\n",
    "print('Hello, ' + full_name + '!')"
   ]
  },
  {
   "cell_type": "code",
   "execution_count": 10,
   "id": "f87817ff",
   "metadata": {},
   "outputs": [
    {
     "name": "stdout",
     "output_type": "stream",
     "text": [
      "thing_1 = wallet\n",
      "thing_2 = keys\n"
     ]
    }
   ],
   "source": [
    "# Create a dictionary that holds 2 key: value pairs:\n",
    "# 1. Loop through your dictionary and print each pair.\n",
    "\n",
    "dict_1 = {'thing_1': 'wallet', 'thing_2': 'keys'}\n",
    "for key, value in dict_1.items():\n",
    "    print(key +' = ' + value)"
   ]
  },
  {
   "cell_type": "code",
   "execution_count": 14,
   "id": "4e732f26",
   "metadata": {},
   "outputs": [
    {
     "name": "stdout",
     "output_type": "stream",
     "text": [
      "Lisa Nobles was born in 1984.\n",
      "Katie Glenn was born in 1988.\n",
      "Carl Glenn was born in 1991.\n"
     ]
    }
   ],
   "source": [
    "# Create a nested dictionary containing three dictionaries – these dictionaries could be anything (favorite pets, \n",
    "# travel locations, etc.)\n",
    "# Loop through the dictionaries and print a message for each.\n",
    "dads_family = [\n",
    "    {'first_name' : 'Lisa',\n",
    "    'last_name' : 'Nobles',\n",
    "    'birth_year' : '1984'},\n",
    "\n",
    "    {'first_name' : 'Katie',\n",
    "    'last_name' : 'Glenn',\n",
    "    'birth_year' : '1988'},\n",
    "\n",
    "    {'first_name' : 'Carl',\n",
    "    'last_name' : 'Glenn',\n",
    "    'birth_year' : '1991'}]\n",
    "\n",
    "for cousin in dads_family:\n",
    "    first_name = cousin['first_name']\n",
    "    last_name = cousin['last_name']\n",
    "    birth_year = cousin['birth_year']\n",
    "    print(first_name + ' ' + last_name + ' was born in ' + birth_year +'.')\n"
   ]
  },
  {
   "cell_type": "code",
   "execution_count": null,
   "id": "5e01e913",
   "metadata": {},
   "outputs": [],
   "source": []
  }
 ],
 "metadata": {
  "kernelspec": {
   "display_name": "Python 3",
   "language": "python",
   "name": "python3"
  },
  "language_info": {
   "codemirror_mode": {
    "name": "ipython",
    "version": 3
   },
   "file_extension": ".py",
   "mimetype": "text/x-python",
   "name": "python",
   "nbconvert_exporter": "python",
   "pygments_lexer": "ipython3",
   "version": "3.8.8"
  }
 },
 "nbformat": 4,
 "nbformat_minor": 5
}
