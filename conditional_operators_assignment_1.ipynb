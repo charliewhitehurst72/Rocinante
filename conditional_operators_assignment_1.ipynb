{
 "cells": [
  {
   "cell_type": "code",
   "execution_count": 7,
   "id": "0d81f7b3",
   "metadata": {},
   "outputs": [
    {
     "name": "stdout",
     "output_type": "stream",
     "text": [
      "Welcome to the application.\n",
      "Welcome to the application.\n",
      "Welcome to the application, Administrator!\n",
      "Welcome to the application.\n",
      "Welcome to the application.\n"
     ]
    }
   ],
   "source": [
    "# 1. Make a list of 5 or more usernames, including an admin account. Imagine you are writing code that will welcome \n",
    "# people to your application on login. Loop through the list and print your greeting. If the admin account logs in, \n",
    "# give them a special greeting. They’re the admin, after all! Other users can get the generic greeting.\n",
    "\n",
    "users = ['pmcbride', 'bhamme', 'cwhitehurst', 'khawkins', 'kdeffenbaugh']\n",
    "admin = 'cwhitehurst'\n",
    "for user in users:\n",
    "    if user == admin:\n",
    "        print('Welcome to the application, Administrator!')\n",
    "    else:\n",
    "        print('Welcome to the application.')"
   ]
  },
  {
   "cell_type": "code",
   "execution_count": 8,
   "id": "55c902e0",
   "metadata": {},
   "outputs": [
    {
     "name": "stdout",
     "output_type": "stream",
     "text": [
      "1st\n",
      "2nd\n",
      "3rd\n",
      "4th\n",
      "5th\n",
      "6th\n",
      "7th\n",
      "8th\n",
      "9th\n",
      "10th\n"
     ]
    }
   ],
   "source": [
    "# 2. Store numbers 1-10 in a list.\n",
    "# Loop through the list.\n",
    "# Use an if-elif-else chain inside your loop to print the ordinal ending for each number – for example – 1st, 2nd, \n",
    "# 3rd, etc.\n",
    "\n",
    "numbers = [1, 2, 3, 4, 5, 6, 7, 8, 9, 10]\n",
    "for number in numbers:\n",
    "    if number == 1:\n",
    "        print(str(number) + 'st')\n",
    "    elif number == 2:\n",
    "        print(str(number) + 'nd')\n",
    "    elif number == 3:\n",
    "        print(str(number) + 'rd')\n",
    "    else:\n",
    "        print(str(number) + 'th')"
   ]
  },
  {
   "cell_type": "code",
   "execution_count": null,
   "id": "37eb9740",
   "metadata": {},
   "outputs": [],
   "source": []
  }
 ],
 "metadata": {
  "kernelspec": {
   "display_name": "Python 3",
   "language": "python",
   "name": "python3"
  },
  "language_info": {
   "codemirror_mode": {
    "name": "ipython",
    "version": 3
   },
   "file_extension": ".py",
   "mimetype": "text/x-python",
   "name": "python",
   "nbconvert_exporter": "python",
   "pygments_lexer": "ipython3",
   "version": "3.8.8"
  }
 },
 "nbformat": 4,
 "nbformat_minor": 5
}
