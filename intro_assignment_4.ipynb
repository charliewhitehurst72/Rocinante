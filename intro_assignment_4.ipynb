{
 "cells": [
  {
   "cell_type": "code",
   "execution_count": 1,
   "id": "053041a1",
   "metadata": {},
   "outputs": [],
   "source": [
    "# 1) Write a program that inputs the following information and prints it out on separate lines.\n",
    "#\n",
    "# First and Last Name\n",
    "# Address\n",
    "# City\n",
    "# State\n",
    "# Zip Code"
   ]
  },
  {
   "cell_type": "code",
   "execution_count": 9,
   "id": "a6b3b374",
   "metadata": {},
   "outputs": [
    {
     "name": "stdout",
     "output_type": "stream",
     "text": [
      "What is your full name (first and last)?Charlie Whitehurst\n",
      "What is your street address?5804 5th Ct. S\n",
      "What city do you live in?Birmingham\n",
      "What state do you live in?AL\n",
      "What is your zip code?35212\n",
      "Charlie Whitehurst\n",
      "5804 5th Ct. S\n",
      "Birmingham\n",
      "AL\n",
      "35212\n"
     ]
    }
   ],
   "source": [
    "name = input('What is your full name (first and last)?')\n",
    "address = input('What is your street address?')\n",
    "city = input('What city do you live in?')\n",
    "state = input('What state do you live in?')\n",
    "zip_code = input('What is your zip code?')\n",
    "print(name + '\\n' + address + '\\n' + city + '\\n' + state + '\\n' + zip_code)"
   ]
  },
  {
   "cell_type": "code",
   "execution_count": 2,
   "id": "7bfc33f6",
   "metadata": {},
   "outputs": [],
   "source": [
    "# Write a program that accepts the following information and prints out the answer for the customer\n",
    "#\n",
    "# Investment Amount\n",
    "# Percentage desired at end of year"
   ]
  },
  {
   "cell_type": "code",
   "execution_count": 6,
   "id": "04fe4877",
   "metadata": {},
   "outputs": [
    {
     "name": "stdout",
     "output_type": "stream",
     "text": [
      "How much would you like to invest?50000\n",
      "What percentage of your investment do you desire to make in profit (in decimal form)?0.15\n",
      "Return on Investment: $7500.0\n"
     ]
    }
   ],
   "source": [
    "investment = input('How much would you like to invest?')\n",
    "desired_percentage = input('What percentage of your investment do you desire to make in profit (in decimal form)?')\n",
    "return_on_investment = int(investment) * float(desired_percentage)\n",
    "print ('Return on Investment: $' + str(return_on_investment))"
   ]
  },
  {
   "cell_type": "code",
   "execution_count": null,
   "id": "759b95f5",
   "metadata": {},
   "outputs": [],
   "source": []
  }
 ],
 "metadata": {
  "kernelspec": {
   "display_name": "Python 3",
   "language": "python",
   "name": "python3"
  },
  "language_info": {
   "codemirror_mode": {
    "name": "ipython",
    "version": 3
   },
   "file_extension": ".py",
   "mimetype": "text/x-python",
   "name": "python",
   "nbconvert_exporter": "python",
   "pygments_lexer": "ipython3",
   "version": "3.8.8"
  }
 },
 "nbformat": 4,
 "nbformat_minor": 5
}
