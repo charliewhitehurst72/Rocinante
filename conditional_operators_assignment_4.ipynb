{
 "cells": [
  {
   "cell_type": "code",
   "execution_count": 15,
   "id": "8d8921f2",
   "metadata": {},
   "outputs": [
    {
     "name": "stdout",
     "output_type": "stream",
     "text": [
      "What was your score on the test? 84\n",
      "You made a B!\n"
     ]
    }
   ],
   "source": [
    "# Write an if-elif-else chain to determine a letter grade based upon a score input by the user using the following \n",
    "# grade definitions:\n",
    "#\n",
    "# 90 - 100 = A, 80-89 = B, 70-79 = C, 60-69 = D, 59 and below = F\n",
    "\n",
    "grade = input ('What was your score on the test? ')\n",
    "if int(grade) > 100 or int(grade) < 1:\n",
    "    print('You have entered an invalid score.')\n",
    "elif int(grade) >= 90 and int(grade) <= 100:\n",
    "    print('You made an A!')\n",
    "elif int(grade) >= 80 and int(grade) <= 89:\n",
    "    print('You made a B!')\n",
    "elif int(grade) >= 70 and int(grade) <= 79:\n",
    "    print('You made a C.')\n",
    "elif int(grade) >= 60 and int(grade) <= 69:\n",
    "    print('You made a D.')\n",
    "else:\n",
    "    print('You made an F.')"
   ]
  },
  {
   "cell_type": "code",
   "execution_count": null,
   "id": "f43cd7e3",
   "metadata": {},
   "outputs": [],
   "source": []
  },
  {
   "cell_type": "code",
   "execution_count": null,
   "id": "dcb15658",
   "metadata": {},
   "outputs": [],
   "source": []
  },
  {
   "cell_type": "code",
   "execution_count": null,
   "id": "df508fd6",
   "metadata": {},
   "outputs": [],
   "source": []
  }
 ],
 "metadata": {
  "kernelspec": {
   "display_name": "Python 3",
   "language": "python",
   "name": "python3"
  },
  "language_info": {
   "codemirror_mode": {
    "name": "ipython",
    "version": 3
   },
   "file_extension": ".py",
   "mimetype": "text/x-python",
   "name": "python",
   "nbconvert_exporter": "python",
   "pygments_lexer": "ipython3",
   "version": "3.8.8"
  }
 },
 "nbformat": 4,
 "nbformat_minor": 5
}
