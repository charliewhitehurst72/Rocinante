{
 "cells": [
  {
   "cell_type": "code",
   "execution_count": 1,
   "id": "0baaeefd",
   "metadata": {},
   "outputs": [
    {
     "name": "stdout",
     "output_type": "stream",
     "text": [
      "Twinkle, twinkle, little star,\n",
      "\tHow I wonder what you are!\n",
      "\t\tUp above the world so high,\n",
      "\t\tLike a diamond in the sky.\n",
      "Twinkle, twinkle, little star,\n",
      "\tHow I wonder what you are\n"
     ]
    }
   ],
   "source": [
    "# 1. Write a Python program to print the following string in a specific format (see the output). Go to the editor\n",
    "# Sample String : \"Twinkle, twinkle, little star, How I wonder what you are! Up above the world so high, Like a diamond in the sky. Twinkle, twinkle, little star, How I wonder what you are\" Output :\n",
    "\n",
    "# Twinkle, twinkle, little star,\n",
    "#     How I wonder what you are! \n",
    "#         Up above the world so high,           \n",
    "#         Like a diamond in the sky. \n",
    "# Twinkle, twinkle, little star, \n",
    "#     How I wonder what you are\n",
    "\n",
    "line1 = 'Twinkle, twinkle, little star,'\n",
    "line2 = '\\n\\tHow I wonder what you are!'\n",
    "line3 = '\\n\\t\\tUp above the world so high,'\n",
    "line4 = '\\n\\t\\tLike a diamond in the sky.'\n",
    "line5 = '\\nTwinkle, twinkle, little star,'\n",
    "line6 = '\\n\\tHow I wonder what you are'\n",
    "print(line1 + line2 + line3 + line4 + line5 + line6)"
   ]
  },
  {
   "cell_type": "code",
   "execution_count": null,
   "id": "b617746d",
   "metadata": {},
   "outputs": [],
   "source": []
  }
 ],
 "metadata": {
  "kernelspec": {
   "display_name": "Python 3",
   "language": "python",
   "name": "python3"
  },
  "language_info": {
   "codemirror_mode": {
    "name": "ipython",
    "version": 3
   },
   "file_extension": ".py",
   "mimetype": "text/x-python",
   "name": "python",
   "nbconvert_exporter": "python",
   "pygments_lexer": "ipython3",
   "version": "3.8.8"
  }
 },
 "nbformat": 4,
 "nbformat_minor": 5
}
