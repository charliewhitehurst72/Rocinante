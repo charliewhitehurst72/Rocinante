{
 "cells": [
  {
   "cell_type": "code",
   "execution_count": 5,
   "id": "620b5d66",
   "metadata": {},
   "outputs": [],
   "source": [
    "# Lesson 3: Working with Lists\n",
    "# \n",
    "# 1. Create a list of 5 of your favorite tv shows.\n",
    "#\n",
    "shows = ['Deadwood', 'Sons of Anarchy', 'Cowboy Bebop', 'Samurai Champloo', 'Queen of the South']"
   ]
  },
  {
   "cell_type": "code",
   "execution_count": 6,
   "id": "06f7e720",
   "metadata": {},
   "outputs": [
    {
     "name": "stdout",
     "output_type": "stream",
     "text": [
      "['Deadwood', 'Sons of Anarchy', 'Cowboy Bebop', 'Samurai Champloo', 'Queen of the South']\n"
     ]
    }
   ],
   "source": [
    "# 2. Print the list in its original order.\n",
    "#\n",
    "print(shows)"
   ]
  },
  {
   "cell_type": "code",
   "execution_count": 14,
   "id": "d572773a",
   "metadata": {},
   "outputs": [
    {
     "name": "stdout",
     "output_type": "stream",
     "text": [
      "['Cowboy Bebop', 'Deadwood', 'Queen of the South', 'Samurai Champloo', 'Sons of Anarchy']\n"
     ]
    }
   ],
   "source": [
    "# 3. Use the sorted() function to print the list in alphabetical order. How is sorted() different from sort()?\n",
    "#\n",
    "# The sort() method permanently sorts the entries in the list, while the sorted() function, when printed, displays the\n",
    "# list entries in sorted order, without permanently sorting the list contents.\n",
    "#\n",
    "print(sorted(shows))"
   ]
  },
  {
   "cell_type": "code",
   "execution_count": 11,
   "id": "71bbcde0",
   "metadata": {},
   "outputs": [
    {
     "name": "stdout",
     "output_type": "stream",
     "text": [
      "['Deadwood', 'Sons of Anarchy', 'Cowboy Bebop', 'Samurai Champloo', 'Queen of the South']\n"
     ]
    }
   ],
   "source": [
    "# 4. Print out your original list.\n",
    "#\n",
    "print(shows)"
   ]
  },
  {
   "cell_type": "code",
   "execution_count": 17,
   "id": "6c720dfd",
   "metadata": {},
   "outputs": [
    {
     "name": "stdout",
     "output_type": "stream",
     "text": [
      "['Sons of Anarchy', 'Samurai Champloo', 'Queen of the South', 'Deadwood', 'Cowboy Bebop']\n"
     ]
    }
   ],
   "source": [
    "# 5. Use sorted() to print your list in reverse alphabetical order.\n",
    "#\n",
    "print(sorted(shows, reverse=True))"
   ]
  },
  {
   "cell_type": "code",
   "execution_count": 19,
   "id": "e167d496",
   "metadata": {
    "scrolled": true
   },
   "outputs": [
    {
     "name": "stdout",
     "output_type": "stream",
     "text": [
      "I have 5 favorite TV shows.\n"
     ]
    }
   ],
   "source": [
    "# 6. Create a message indicating how many favorite TV shows you have – use the len() function.\n",
    "#\n",
    "message = \"I have \" + str(len(shows)) + \" favorite TV shows.\"\n",
    "print(message)"
   ]
  },
  {
   "cell_type": "code",
   "execution_count": null,
   "id": "e06d4171",
   "metadata": {},
   "outputs": [],
   "source": []
  }
 ],
 "metadata": {
  "kernelspec": {
   "display_name": "Python 3",
   "language": "python",
   "name": "python3"
  },
  "language_info": {
   "codemirror_mode": {
    "name": "ipython",
    "version": 3
   },
   "file_extension": ".py",
   "mimetype": "text/x-python",
   "name": "python",
   "nbconvert_exporter": "python",
   "pygments_lexer": "ipython3",
   "version": "3.8.8"
  }
 },
 "nbformat": 4,
 "nbformat_minor": 5
}
