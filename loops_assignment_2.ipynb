{
 "cells": [
  {
   "cell_type": "code",
   "execution_count": 10,
   "id": "3a3f5e09",
   "metadata": {},
   "outputs": [
    {
     "name": "stdout",
     "output_type": "stream",
     "text": [
      "\n",
      "\n",
      "* \n",
      "\n",
      "* * \n",
      "\n",
      "* * * \n",
      "\n",
      "* * * * \n",
      "\n",
      "* * * * * \n",
      "\n",
      "* * * * \n",
      "\n",
      "* * * \n",
      "\n",
      "* * \n",
      "\n",
      "* \n",
      "\n"
     ]
    }
   ],
   "source": [
    "# 1. Write a Python program to construct the following pattern, using a nested for loop.\n",
    "# *\n",
    "#\n",
    "# * *\n",
    "#\n",
    "# * * *\n",
    "#\n",
    "# * * * *\n",
    "\n",
    "# * * * * *\n",
    "\n",
    "# * * * *\n",
    "\n",
    "# * * *\n",
    "\n",
    "# * *\n",
    "\n",
    "# *\n",
    "\n",
    "n = 5\n",
    "\n",
    "for i in range(n):\n",
    "    for j in range(i):\n",
    "        print('*', end =' ')\n",
    "    print('\\n')\n",
    "\n",
    "for i in range (n, 0, -1):\n",
    "    for j in range (i):\n",
    "        print('*', end = ' ')\n",
    "    print('\\n')"
   ]
  },
  {
   "cell_type": "code",
   "execution_count": 1,
   "id": "2c6557fb",
   "metadata": {},
   "outputs": [
    {
     "name": "stdout",
     "output_type": "stream",
     "text": [
      "Input a word to reverse: python\n",
      "nohtyp"
     ]
    }
   ],
   "source": [
    "# 2. Write a Python program that accepts a word from the user and reverse it.\n",
    "# Hint: use range() function\n",
    "\n",
    "word = input('Input a word to reverse: ')\n",
    "\n",
    "for char in range(len(word) -1, -1, -1):\n",
    "    print(word[char], end = '')"
   ]
  },
  {
   "cell_type": "code",
   "execution_count": 2,
   "id": "8238471c",
   "metadata": {},
   "outputs": [
    {
     "name": "stdout",
     "output_type": "stream",
     "text": [
      "0 1 2 4 5 "
     ]
    }
   ],
   "source": [
    "# 3. Write a Python program that prints all the numbers from 0 to 6 except 3 and 6.\n",
    "# Note : Use 'continue' statement.\n",
    "#\n",
    "# Expected Output : 0 1 2 4 5\n",
    "\n",
    "for x in range(6):\n",
    "    if(x == 3 or x == 6):\n",
    "        continue\n",
    "    print(x, end = ' ')"
   ]
  },
  {
   "cell_type": "code",
   "execution_count": 3,
   "id": "d58fa38e",
   "metadata": {},
   "outputs": [
    {
     "name": "stdout",
     "output_type": "stream",
     "text": [
      "Input a dog's age in human years: 15\n",
      "The dog's age in dog years is 73.\n"
     ]
    }
   ],
   "source": [
    "# 4. Write a Python program to calculate a dog's age in dog's years. Go to the editor\n",
    "# Note: For the first two years, a dog year is equal to 10.5 human years. After that, each dog year equals 4 human years.\n",
    "#\n",
    "# Expected Output:\n",
    "#\n",
    "# Input a dog's age in human years: 15                                   \n",
    "#\n",
    "# The dog's age in dog's years is 73.\n",
    "\n",
    "age = int(input(\"Input a dog's age in human years: \"))\n",
    "if age <0:\n",
    "    print(\"You've entered an invalid age.\")\n",
    "elif age <= 2:\n",
    "    print(\"The dog's age in dog years is \" + str(10.5 * age) + '.')\n",
    "else:\n",
    "    print(\"The dog's age in dog years is \" + str(21 + (age - 2)*4) +'.')"
   ]
  },
  {
   "cell_type": "code",
   "execution_count": null,
   "id": "ec965878",
   "metadata": {},
   "outputs": [],
   "source": []
  }
 ],
 "metadata": {
  "kernelspec": {
   "display_name": "Python 3",
   "language": "python",
   "name": "python3"
  },
  "language_info": {
   "codemirror_mode": {
    "name": "ipython",
    "version": 3
   },
   "file_extension": ".py",
   "mimetype": "text/x-python",
   "name": "python",
   "nbconvert_exporter": "python",
   "pygments_lexer": "ipython3",
   "version": "3.8.8"
  }
 },
 "nbformat": 4,
 "nbformat_minor": 5
}
